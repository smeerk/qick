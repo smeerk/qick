{
 "cells": [
  {
   "cell_type": "markdown",
   "metadata": {},
   "source": [
    "# <center> Installing and testing the qick package </center>\n",
    "\n",
    "This notebook will explain how to install the qick library and use it to program the FPGA.\n",
    "\n",
    "There are multiple ways to do any given thing, and this notebook gives several options.\n",
    "The recommended option is always uncommented and ready for you to execute; alternatives are commented out, and you need to uncomment them (and comment out the recommended option) if you choose to go that route. So it should be safe to just run the whole notebook, and you will end up with a working system.\n",
    "\n",
    "*However we strongly recommend (not only for this notebook, but for all of the demo notebooks) that you read carefully through the notebook and run one cell at a time.*"
   ]
  },
  {
   "cell_type": "markdown",
   "metadata": {},
   "source": [
    "## pynq library\n",
    "Let's check that the Xilinx pynq library is installed: you should see (among things) a version number, which should match the version of the PYNQ Linux image you installed.\n",
    "\n",
    "The QICK software supports pynq versions 2.6.0 and above."
   ]
  },
  {
   "cell_type": "code",
   "execution_count": 13,
   "metadata": {},
   "outputs": [
    {
     "name": "stdout",
     "output_type": "stream",
     "text": [
      "Help on package pynq:\n",
      "\n",
      "NAME\n",
      "    pynq\n",
      "\n",
      "DESCRIPTION\n",
      "    # Copyright (C) 2022 Xilinx, Inc\n",
      "    # SPDX-License-Identifier: BSD-3-Clause\n",
      "\n",
      "PACKAGE CONTENTS\n",
      "    _3rdparty (package)\n",
      "    _cli (package)\n",
      "    bitstream\n",
      "    buffer\n",
      "    devicetree\n",
      "    gpio\n",
      "    interrupt\n",
      "    lib (package)\n",
      "    mmio\n",
      "    overlay\n",
      "    overlays (package)\n",
      "    pl\n",
      "    pl_server (package)\n",
      "    pmbus\n",
      "    ps\n",
      "    registers\n",
      "    uio\n",
      "    utils\n",
      "\n",
      "SUBMODULES\n",
      "    metadata\n",
      "\n",
      "DATA\n",
      "    __all__ = ['lib', 'tests']\n",
      "    __git_id__ = '$Id: 16022d5f2c61c7e5e1d4aabcfc9b3e4c91b491b6 $'\n",
      "\n",
      "VERSION\n",
      "    3.0.1\n",
      "\n",
      "FILE\n",
      "    /usr/local/share/pynq-venv/lib/python3.10/site-packages/pynq/__init__.py\n",
      "\n",
      "\n"
     ]
    }
   ],
   "source": [
    "import pynq\n",
    "help(pynq)"
   ]
  },
  {
   "cell_type": "markdown",
   "metadata": {},
   "source": [
    "## qick library\n",
    "\n",
    "Now let's install the qick library. The qick library has three dependencies: `pynq`, `numpy`, and `tqdm`. All should already be installed as part of the PYNQ Linux image."
   ]
  },
  {
   "cell_type": "markdown",
   "metadata": {},
   "source": [
    "### Installing using pip (recommended option)\n",
    "\n",
    "You could run these `pip3` commands from the shell over SSH - they need to be run as root (using `sudo`), and on pynq 2.7 you must additionally enable the pynq `venv`. Running the commands inside a notebook, as we do here, conveniently ensures that the commands run in (and install to) the same environment that the notebook runs in."
   ]
  },
  {
   "cell_type": "code",
   "execution_count": 16,
   "metadata": {},
   "outputs": [
    {
     "name": "stdout",
     "output_type": "stream",
     "text": [
      "Obtaining file:///home/xilinx/jupyter_notebooks/qick\n",
      "  Installing build dependencies ... \u001b[?25ldone\n",
      "\u001b[?25h  Checking if build backend supports build_editable ... \u001b[?25ldone\n",
      "\u001b[?25h  Getting requirements to build wheel ... \u001b[?25ldone\n",
      "\u001b[?25h  Preparing metadata (pyproject.toml) ... \u001b[?25ldone\n",
      "\u001b[?25hRequirement already satisfied: pynq>=2.6 in /usr/local/share/pynq-venv/lib/python3.10/site-packages (from qick==0.2.298) (3.0.1)\n",
      "Requirement already satisfied: tqdm in /usr/local/share/pynq-venv/lib/python3.10/site-packages (from qick==0.2.298) (4.64.0)\n",
      "Requirement already satisfied: numpy in /usr/lib/python3/dist-packages (from qick==0.2.298) (1.21.5)\n",
      "Requirement already satisfied: setuptools>=24.2.0 in /usr/local/share/pynq-venv/lib/python3.10/site-packages (from pynq>=2.6->qick==0.2.298) (59.6.0)\n",
      "Requirement already satisfied: pynqmetadata>=0.0.1 in /usr/local/share/pynq-venv/lib/python3.10/site-packages (from pynq>=2.6->qick==0.2.298) (0.3.1)\n",
      "Requirement already satisfied: pynqutils>=0.0.1 in /usr/local/share/pynq-venv/lib/python3.10/site-packages (from pynq>=2.6->qick==0.2.298) (0.1.0)\n",
      "Requirement already satisfied: cffi in /usr/lib/python3/dist-packages (from pynq>=2.6->qick==0.2.298) (1.15.0)\n",
      "Requirement already satisfied: nest-asyncio in /usr/local/share/pynq-venv/lib/python3.10/site-packages (from pynq>=2.6->qick==0.2.298) (1.5.5)\n",
      "Requirement already satisfied: jsonschema>=3.2.0 in /usr/local/share/pynq-venv/lib/python3.10/site-packages (from pynqmetadata>=0.0.1->pynq>=2.6->qick==0.2.298) (4.9.0)\n",
      "Requirement already satisfied: pydantic in /usr/local/share/pynq-venv/lib/python3.10/site-packages (from pynqmetadata>=0.0.1->pynq>=2.6->qick==0.2.298) (1.9.1)\n",
      "Requirement already satisfied: python-magic>=0.4.25 in /usr/local/share/pynq-venv/lib/python3.10/site-packages (from pynqutils>=0.0.1->pynq>=2.6->qick==0.2.298) (0.4.27)\n",
      "Requirement already satisfied: attrs>=17.4.0 in /usr/lib/python3/dist-packages (from jsonschema>=3.2.0->pynqmetadata>=0.0.1->pynq>=2.6->qick==0.2.298) (21.2.0)\n",
      "Requirement already satisfied: pyrsistent!=0.17.0,!=0.17.1,!=0.17.2,>=0.14.0 in /usr/local/share/pynq-venv/lib/python3.10/site-packages (from jsonschema>=3.2.0->pynqmetadata>=0.0.1->pynq>=2.6->qick==0.2.298) (0.18.1)\n",
      "Requirement already satisfied: typing-extensions>=3.7.4.3 in /usr/local/share/pynq-venv/lib/python3.10/site-packages (from pydantic->pynqmetadata>=0.0.1->pynq>=2.6->qick==0.2.298) (4.7.1)\n",
      "Installing collected packages: qick\n",
      "  Running setup.py develop for qick\n",
      "Successfully installed qick\n"
     ]
    }
   ],
   "source": [
    "# Use the line below for an \"editable mode\" install.\n",
    "# This installs a link telling Python to look for the library files in their current location.\n",
    "# It is recommended if you expect to update the git repo, or you want to test changes to the QICK library, \n",
    "# and don't want to reinstall the library every time.\n",
    "\n",
    "!pip3 install -e ./qick/\n",
    "\n",
    "# If your board doesn't have Internet access, you may need to add some extra options:\n",
    "\n",
    "# !pip3 install --no-index --no-build-isolation -e ../\n",
    "\n",
    "# Use the line below instead for a normal pip install, which copies the library files to a central location.\n",
    "# In contrast to an editable install, you will need to re-install whenever you modify or update the qick library;\n",
    "# a normal install is somewhat slower for the initial install and infinitely slower for updates.\n",
    "# This is only recommended if for some reason you want to delete the git repo after installing,\n",
    "# or the git repo is on a temporarily available filesystem (e.g. flash drive).\n",
    "\n",
    "# !pip3 install ../\n"
   ]
  },
  {
   "cell_type": "markdown",
   "metadata": {},
   "source": [
    "Let's see that the package is installed."
   ]
  },
  {
   "cell_type": "code",
   "execution_count": 17,
   "metadata": {},
   "outputs": [
    {
     "name": "stdout",
     "output_type": "stream",
     "text": [
      "Name: qick\n",
      "Version: 0.2.298\n",
      "Summary: Quantum Instrumentation Controller Kit software library\n",
      "Home-page: https://github.com/openquantumhardware/qick\n",
      "Author: Open Quantum Hardware\n",
      "Author-email: openquantumhardware@gmail.com\n",
      "License: UNKNOWN\n",
      "Location: /home/xilinx/jupyter_notebooks/qick/qick_lib\n",
      "Requires: numpy, pynq, tqdm\n",
      "Required-by: \n"
     ]
    }
   ],
   "source": [
    "!pip3 show qick"
   ]
  },
  {
   "cell_type": "markdown",
   "metadata": {},
   "source": [
    "Now you need to restart the Jupyter kernel so it picks up the newly installed library: click the Kernel menu, then Restart."
   ]
  },
  {
   "cell_type": "markdown",
   "metadata": {},
   "source": [
    "#### How to uninstall"
   ]
  },
  {
   "cell_type": "code",
   "execution_count": 4,
   "metadata": {},
   "outputs": [],
   "source": [
    "# !pip3 uninstall -y qick"
   ]
  },
  {
   "cell_type": "markdown",
   "metadata": {},
   "source": [
    "### Using the qick library without installing it (alternative)\n",
    "\n",
    "If for whatever reason you don't want to install the library (maybe you don't want to risk changing the Python environment for other code that you run on the board?), you can tell Python the path to the library.\n",
    "\n",
    "You would need to take the two lines below and copy them into the beginning of every notebook."
   ]
  },
  {
   "cell_type": "code",
   "execution_count": 5,
   "metadata": {},
   "outputs": [],
   "source": [
    "# import sys\n",
    "# sys.path.append('../qick_lib/')"
   ]
  },
  {
   "cell_type": "markdown",
   "metadata": {},
   "source": [
    "### Testing the qick library and programming the FPGA"
   ]
  },
  {
   "cell_type": "code",
   "execution_count": 18,
   "metadata": {},
   "outputs": [
    {
     "name": "stdout",
     "output_type": "stream",
     "text": [
      "Help on package qick:\n",
      "\n",
      "NAME\n",
      "    qick\n",
      "\n",
      "PACKAGE CONTENTS\n",
      "    asm_v1\n",
      "    asm_v2\n",
      "    averager_program\n",
      "    drivers (package)\n",
      "    helpers\n",
      "    ip\n",
      "    ipq_pynq_utils (package)\n",
      "    parser\n",
      "    pyro\n",
      "    pyro_cli\n",
      "    qick\n",
      "    qick_asm\n",
      "    rfboard\n",
      "    streamer\n",
      "    tprocv2_assembler\n",
      "\n",
      "FUNCTIONS\n",
      "    bitfile_path()\n",
      "        Choose the default firmware path for this board.\n",
      "        \n",
      "        Parameters\n",
      "        ----------\n",
      "        \n",
      "        Returns\n",
      "        -------\n",
      "        str\n",
      "            absolute path to the firmware bitfile distributed with the QICK library\n",
      "    \n",
      "    get_version()\n",
      "        Read library version from qick_lib/qick/VERSION (a text file containing only the version number).\n",
      "        \n",
      "        Parameters\n",
      "        ----------\n",
      "        \n",
      "        Returns\n",
      "        -------\n",
      "        str\n",
      "            version number, in major.minor.PR format\n",
      "    \n",
      "    obtain(i)\n",
      "\n",
      "VERSION\n",
      "    0.2.286\n",
      "\n",
      "FILE\n",
      "    /home/xilinx/jupyter_notebooks/qick/qick_lib/qick/__init__.py\n",
      "\n",
      "\n"
     ]
    }
   ],
   "source": [
    "import qick\n",
    "help(qick)"
   ]
  },
  {
   "cell_type": "markdown",
   "metadata": {},
   "source": [
    "Normally we import all the Python classes defined by the package - you will see this initialization at the beginning of all the demo notebooks."
   ]
  },
  {
   "cell_type": "code",
   "execution_count": 2,
   "metadata": {},
   "outputs": [],
   "source": [
    "from qick import *"
   ]
  },
  {
   "cell_type": "markdown",
   "metadata": {},
   "source": [
    "Initializing the QickSoc class programs the FPGA.\n",
    "Printing the class gives a description of the generator and readout channels in the programmed firmware. You're ready to run the other demo notebooks."
   ]
  },
  {
   "cell_type": "code",
   "execution_count": 3,
   "metadata": {},
   "outputs": [
    {
     "name": "stdout",
     "output_type": "stream",
     "text": [
      "\n",
      "QICK configuration:\n",
      "\n",
      "\tBoard: ZCU216\n",
      "\n",
      "\tGlobal clocks (MHz): tProcessor 430.080, RF reference 245.760\n",
      "\n",
      "\t7 signal generator channels:\n",
      "\t0:\taxis_signal_gen_v4 - tProc output 1, switch ch 0, maxlen 65536\n",
      "\t\tDAC tile 2, ch 0, 32-bit DDS, fabric=430.080 MHz, fs=6881.280 MHz\n",
      "\t1:\taxis_signal_gen_v4 - tProc output 2, switch ch 1, maxlen 65536\n",
      "\t\tDAC tile 2, ch 1, 32-bit DDS, fabric=430.080 MHz, fs=6881.280 MHz\n",
      "\t2:\taxis_signal_gen_v4 - tProc output 3, switch ch 2, maxlen 65536\n",
      "\t\tDAC tile 2, ch 2, 32-bit DDS, fabric=430.080 MHz, fs=6881.280 MHz\n",
      "\t3:\taxis_signal_gen_v4 - tProc output 4, switch ch 3, maxlen 65536\n",
      "\t\tDAC tile 2, ch 3, 32-bit DDS, fabric=430.080 MHz, fs=6881.280 MHz\n",
      "\t4:\taxis_signal_gen_v4 - tProc output 5, switch ch 4, maxlen 65536\n",
      "\t\tDAC tile 3, ch 0, 32-bit DDS, fabric=430.080 MHz, fs=6881.280 MHz\n",
      "\t5:\taxis_signal_gen_v4 - tProc output 6, switch ch 5, maxlen 65536\n",
      "\t\tDAC tile 3, ch 1, 32-bit DDS, fabric=430.080 MHz, fs=6881.280 MHz\n",
      "\t6:\taxis_signal_gen_v4 - tProc output 7, switch ch 6, maxlen 65536\n",
      "\t\tDAC tile 3, ch 2, 32-bit DDS, fabric=430.080 MHz, fs=6881.280 MHz\n",
      "\n",
      "\t2 readout channels:\n",
      "\t0:\tADC tile 2, ch 0, 32-bit DDS, fabric=307.200 MHz, fs=2457.600 MHz\n",
      "\t\tmaxlen 16384 (avg) 1024 (decimated), trigger 14, tProc input 0\n",
      "\t1:\tADC tile 2, ch 2, 32-bit DDS, fabric=307.200 MHz, fs=2457.600 MHz\n",
      "\t\tmaxlen 16384 (avg) 1024 (decimated), trigger 15, tProc input 1\n",
      "\n",
      "\ttProc: 1048576 words program memory, 4096 words data memory\n",
      "\t\tprogram RAM: 65536 bytes\n"
     ]
    }
   ],
   "source": [
    "soc = QickSoc()\n",
    "print(soc)"
   ]
  }
 ],
 "metadata": {
  "kernelspec": {
   "display_name": "Python 3 (ipykernel)",
   "language": "python",
   "name": "python3"
  },
  "language_info": {
   "codemirror_mode": {
    "name": "ipython",
    "version": 3
   },
   "file_extension": ".py",
   "mimetype": "text/x-python",
   "name": "python",
   "nbconvert_exporter": "python",
   "pygments_lexer": "ipython3",
   "version": "3.10.4"
  }
 },
 "nbformat": 4,
 "nbformat_minor": 2
}
